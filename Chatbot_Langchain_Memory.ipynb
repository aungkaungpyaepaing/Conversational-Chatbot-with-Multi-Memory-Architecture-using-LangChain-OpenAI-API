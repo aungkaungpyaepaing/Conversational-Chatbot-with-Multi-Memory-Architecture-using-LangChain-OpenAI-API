{
 "cells": [
  {
   "cell_type": "code",
   "id": "initial_id",
   "metadata": {
    "collapsed": true,
    "ExecuteTime": {
     "end_time": "2025-06-02T23:11:13.134058Z",
     "start_time": "2025-06-02T23:11:13.121403Z"
    }
   },
   "source": [
    "%load_ext dotenv\n",
    "%dotenv"
   ],
   "outputs": [],
   "execution_count": 1
  },
  {
   "metadata": {
    "ExecuteTime": {
     "end_time": "2025-06-02T23:32:04.275287Z",
     "start_time": "2025-06-02T23:32:04.256128Z"
    }
   },
   "cell_type": "code",
   "source": [
    "from langchain_openai import ChatOpenAI\n",
    "from langchain_core.prompts import PromptTemplate\n",
    "from langchain_core.output_parsers import StrOutputParser\n",
    "from langchain.memory import ConversationSummaryMemory\n",
    "from langchain_core.runnables import RunnableLambda, RunnablePassthrough, chain\n",
    "from operator import itemgetter"
   ],
   "id": "829dd1e6638d2d5d",
   "outputs": [],
   "execution_count": 35
  },
  {
   "metadata": {
    "ExecuteTime": {
     "end_time": "2025-06-02T23:13:55.584177Z",
     "start_time": "2025-06-02T23:13:55.571293Z"
    }
   },
   "cell_type": "code",
   "source": [
    "TEMPLATE = '''\n",
    "The following is the friendly conversation between Human and AI.\n",
    "The AI is talkative and provide lots of specific details from its context.\n",
    "If the AI does not know the answer to a question, it truthfully said it does not know.\n",
    "\n",
    "Current conversation:\n",
    "{message_log}\n",
    "\n",
    "Human:\n",
    "{question}\n",
    "\n",
    "AI:\n",
    "'''\n",
    "\n",
    "prompt_template = PromptTemplate.from_template(template=TEMPLATE)"
   ],
   "id": "5d1558ab4bd58ced",
   "outputs": [],
   "execution_count": 3
  },
  {
   "metadata": {
    "ExecuteTime": {
     "end_time": "2025-06-02T23:16:27.284669Z",
     "start_time": "2025-06-02T23:16:27.267995Z"
    }
   },
   "cell_type": "code",
   "source": [
    "chat = ChatOpenAI(model_name = 'gpt-4',\n",
    "                  model_kwargs={'seed':365},\n",
    "                  temperature = 0,\n",
    "                  max_tokens = 100)"
   ],
   "id": "ca2fa15d9f8766bc",
   "outputs": [
    {
     "name": "stderr",
     "output_type": "stream",
     "text": [
      "/Users/aungkaungpyaepaing/PycharmProjects/LangChain/.venv/lib/python3.11/site-packages/IPython/core/interactiveshell.py:3610: UserWarning: Parameters {'seed'} should be specified explicitly. Instead they were passed in as part of `model_kwargs` parameter.\n",
      "  if await self.run_code(code, result, async_=asy):\n"
     ]
    }
   ],
   "execution_count": 9
  },
  {
   "metadata": {
    "ExecuteTime": {
     "end_time": "2025-06-02T23:26:12.489138Z",
     "start_time": "2025-06-02T23:26:12.337679Z"
    }
   },
   "cell_type": "code",
   "source": [
    "chat_memory = ConversationSummaryMemory(llm = ChatOpenAI(),\n",
    "                                        memory_key = 'message_log')"
   ],
   "id": "2e0cf4fd41d04aa2",
   "outputs": [],
   "execution_count": 30
  },
  {
   "metadata": {
    "ExecuteTime": {
     "end_time": "2025-06-02T23:17:03.208684Z",
     "start_time": "2025-06-02T23:17:03.201933Z"
    }
   },
   "cell_type": "code",
   "source": "question = \"Can you give me an interesting face that i probably didn't know about?\"",
   "id": "1bd68e06fe9146ae",
   "outputs": [],
   "execution_count": 10
  },
  {
   "metadata": {
    "ExecuteTime": {
     "end_time": "2025-06-02T23:20:30.639107Z",
     "start_time": "2025-06-02T23:20:30.616268Z"
    }
   },
   "cell_type": "code",
   "source": [
    "dictionary_output = RunnablePassthrough.assign(\n",
    "    message_log = RunnableLambda(chat_memory.load_memory_variables) |\n",
    "                  itemgetter('message_log')).invoke(\n",
    "    {'question': question})"
   ],
   "id": "c689b8e51b32291e",
   "outputs": [],
   "execution_count": 18
  },
  {
   "metadata": {
    "ExecuteTime": {
     "end_time": "2025-06-02T23:21:20.533627Z",
     "start_time": "2025-06-02T23:21:20.515275Z"
    }
   },
   "cell_type": "code",
   "source": "prompt_value_output = prompt_template.invoke(dictionary_output)",
   "id": "49de10fb4b1574f4",
   "outputs": [],
   "execution_count": 20
  },
  {
   "metadata": {
    "ExecuteTime": {
     "end_time": "2025-06-02T23:21:42.199299Z",
     "start_time": "2025-06-02T23:21:38.747143Z"
    }
   },
   "cell_type": "code",
   "source": "ai_message_output = chat.invoke(prompt_value_output)",
   "id": "2bf8d310d502779c",
   "outputs": [],
   "execution_count": 21
  },
  {
   "metadata": {
    "ExecuteTime": {
     "end_time": "2025-06-02T23:22:35.419069Z",
     "start_time": "2025-06-02T23:22:35.414085Z"
    }
   },
   "cell_type": "code",
   "source": "response = StrOutputParser().invoke(ai_message_output)",
   "id": "e3c7ca4defda931f",
   "outputs": [],
   "execution_count": 26
  },
  {
   "metadata": {
    "ExecuteTime": {
     "end_time": "2025-06-02T23:23:37.024871Z",
     "start_time": "2025-06-02T23:23:34.951796Z"
    }
   },
   "cell_type": "code",
   "source": [
    "chat_memory.save_context(inputs = {'input':question},\n",
    "                         outputs = {'output':response})"
   ],
   "id": "550731dac7403de7",
   "outputs": [],
   "execution_count": 27
  },
  {
   "metadata": {
    "ExecuteTime": {
     "end_time": "2025-06-02T23:25:25.225181Z",
     "start_time": "2025-06-02T23:25:25.211673Z"
    }
   },
   "cell_type": "code",
   "source": "chat_memory.load_memory_variables({})",
   "id": "67205db444e463f2",
   "outputs": [
    {
     "data": {
      "text/plain": [
       "{'message_log': 'The human asks if the AI can provide an interesting fact that they might not know about. The AI shares that the human face can make over 7,000 different expressions due to the intricate structure of its 43 muscles, which can be independently manipulated by the nervous system to convey various emotions and reactions.'}"
      ]
     },
     "execution_count": 29,
     "metadata": {},
     "output_type": "execute_result"
    }
   ],
   "execution_count": 29
  },
  {
   "metadata": {},
   "cell_type": "markdown",
   "source": [
    "# Building Chain\n",
    "\n",
    "1. RunnablePassthrough()\n",
    "2. ChatPromptTemplate()\n",
    "3. ChatOpenAI()\n",
    "4. StrOutputParser()\n",
    "5. Did it in Part2 LCEL 11"
   ],
   "id": "1d28f08da4ce8896"
  },
  {
   "metadata": {
    "ExecuteTime": {
     "end_time": "2025-06-02T23:30:27.121225Z",
     "start_time": "2025-06-02T23:30:23.042274Z"
    }
   },
   "cell_type": "code",
   "source": [
    "chain1 = (\n",
    "    RunnablePassthrough.assign(\n",
    "        message_log = RunnableLambda(chat_memory.load_memory_variables) |\n",
    "        itemgetter('message_log'))\n",
    "    | prompt_template\n",
    "    | chat\n",
    "    | StrOutputParser()\n",
    ")\n",
    "\n",
    "question = \"Can you give me an interesting face that i probably didn't know about?\"\n",
    "\n",
    "response = chain1.invoke({'question':question})\n",
    "\n",
    "chat_memory.save_context(inputs = {'input':question},\n",
    "                         outputs = {'output':response})\n",
    "\n",
    "response"
   ],
   "id": "d11ff4b7709c1643",
   "outputs": [
    {
     "data": {
      "text/plain": [
       "'Sure, did you know that the human face is capable of making 7,000 different expressions? This is due to the complex structure of our facial muscles, which allow us to convey a wide range of emotions and reactions.'"
      ]
     },
     "execution_count": 33,
     "metadata": {},
     "output_type": "execute_result"
    }
   ],
   "execution_count": 33
  },
  {
   "metadata": {},
   "cell_type": "markdown",
   "source": "# Using Chain Decorator",
   "id": "16a6bfb697b50284"
  },
  {
   "metadata": {
    "ExecuteTime": {
     "end_time": "2025-06-02T23:43:18.803356Z",
     "start_time": "2025-06-02T23:43:18.784550Z"
    }
   },
   "cell_type": "code",
   "source": [
    "@chain\n",
    "def memory_chain(question):\n",
    "    chain1 = (\n",
    "        RunnablePassthrough.assign(\n",
    "            message_log = RunnableLambda(chat_memory.load_memory_variables) |\n",
    "            itemgetter('message_log'))\n",
    "        | prompt_template\n",
    "        | chat\n",
    "        | StrOutputParser()\n",
    "    )\n",
    "\n",
    "    chain1.get_graph().print_ascii()\n",
    "\n",
    "    response = chain1.invoke({'question':question})\n",
    "\n",
    "    chat_memory.save_context(inputs = {'input':question},\n",
    "                             outputs = {'output':response})\n",
    "\n",
    "    return response"
   ],
   "id": "10f0c0ff40d2efe5",
   "outputs": [],
   "execution_count": 39
  },
  {
   "metadata": {
    "ExecuteTime": {
     "end_time": "2025-06-02T23:43:26.028074Z",
     "start_time": "2025-06-02T23:43:19.643518Z"
    }
   },
   "cell_type": "code",
   "source": "memory_chain.invoke(\"Can you give me interesting face that i probably didn't know about?\")",
   "id": "880bf7c917737a69",
   "outputs": [
    {
     "name": "stdout",
     "output_type": "stream",
     "text": [
      "              +----------------------------+          \n",
      "              | Parallel<message_log>Input |          \n",
      "              +----------------------------+          \n",
      "                    **             ***                \n",
      "                 ***                  ***             \n",
      "               **                        **           \n",
      "+-----------------------+                  **         \n",
      "| load_memory_variables |                   *         \n",
      "+-----------------------+                   *         \n",
      "            *                               *         \n",
      "            *                               *         \n",
      "            *                               *         \n",
      "        +--------+                   +-------------+  \n",
      "        | Lambda |                   | Passthrough |  \n",
      "        +--------+**                 +-------------+  \n",
      "                    **              **                \n",
      "                      ***        ***                  \n",
      "                         **    **                     \n",
      "             +-----------------------------+          \n",
      "             | Parallel<message_log>Output |          \n",
      "             +-----------------------------+          \n",
      "                            *                         \n",
      "                            *                         \n",
      "                            *                         \n",
      "                    +----------------+                \n",
      "                    | PromptTemplate |                \n",
      "                    +----------------+                \n",
      "                            *                         \n",
      "                            *                         \n",
      "                            *                         \n",
      "                      +------------+                  \n",
      "                      | ChatOpenAI |                  \n",
      "                      +------------+                  \n",
      "                            *                         \n",
      "                            *                         \n",
      "                            *                         \n",
      "                   +-----------------+                \n",
      "                   | StrOutputParser |                \n",
      "                   +-----------------+                \n",
      "                            *                         \n",
      "                            *                         \n",
      "                            *                         \n",
      "                +-----------------------+             \n",
      "                | StrOutputParserOutput |             \n",
      "                +-----------------------+             \n"
     ]
    },
    {
     "data": {
      "text/plain": [
       "'Absolutely! Did you know that the human nose can remember up to 50,000 different scents? This is because the olfactory bulb, which starts in the nose and runs along the bottom of the brain, has direct connections to the two brain areas that are strongly implicated in emotion and memory: the amygdala and hippocampus. Interestingly, visual, auditory (sound), and tactile (touch) information do not pass through these brain areas, which could be why smell, more than any other'"
      ]
     },
     "execution_count": 40,
     "metadata": {},
     "output_type": "execute_result"
    }
   ],
   "execution_count": 40
  },
  {
   "metadata": {
    "ExecuteTime": {
     "end_time": "2025-06-02T23:43:49.330602Z",
     "start_time": "2025-06-02T23:43:41.628796Z"
    }
   },
   "cell_type": "code",
   "source": "memory_chain.invoke(\"Can you elaborate a bit more on this fact?\")",
   "id": "840c96c6e2156cca",
   "outputs": [
    {
     "name": "stdout",
     "output_type": "stream",
     "text": [
      "              +----------------------------+          \n",
      "              | Parallel<message_log>Input |          \n",
      "              +----------------------------+          \n",
      "                    **             ***                \n",
      "                 ***                  ***             \n",
      "               **                        **           \n",
      "+-----------------------+                  **         \n",
      "| load_memory_variables |                   *         \n",
      "+-----------------------+                   *         \n",
      "            *                               *         \n",
      "            *                               *         \n",
      "            *                               *         \n",
      "        +--------+                   +-------------+  \n",
      "        | Lambda |                   | Passthrough |  \n",
      "        +--------+**                 +-------------+  \n",
      "                    **              **                \n",
      "                      ***        ***                  \n",
      "                         **    **                     \n",
      "             +-----------------------------+          \n",
      "             | Parallel<message_log>Output |          \n",
      "             +-----------------------------+          \n",
      "                            *                         \n",
      "                            *                         \n",
      "                            *                         \n",
      "                    +----------------+                \n",
      "                    | PromptTemplate |                \n",
      "                    +----------------+                \n",
      "                            *                         \n",
      "                            *                         \n",
      "                            *                         \n",
      "                      +------------+                  \n",
      "                      | ChatOpenAI |                  \n",
      "                      +------------+                  \n",
      "                            *                         \n",
      "                            *                         \n",
      "                            *                         \n",
      "                   +-----------------+                \n",
      "                   | StrOutputParser |                \n",
      "                   +-----------------+                \n",
      "                            *                         \n",
      "                            *                         \n",
      "                            *                         \n",
      "                +-----------------------+             \n",
      "                | StrOutputParserOutput |             \n",
      "                +-----------------------+             \n"
     ]
    },
    {
     "data": {
      "text/plain": [
       "\"Absolutely! The human nose is quite an amazing organ. It's not just there for smelling, but it also plays a crucial role in our sense of taste and in forming memories.\\n\\nThe nose has around 400 types of scent receptors that can detect at least 1 trillion different odors. These receptors are directly connected to the olfactory bulb, which is the part of the brain that analyzes smells. The olfactory bulb is part of the limbic system, the emotional center of the brain. This\""
      ]
     },
     "execution_count": 41,
     "metadata": {},
     "output_type": "execute_result"
    }
   ],
   "execution_count": 41
  },
  {
   "metadata": {},
   "cell_type": "code",
   "outputs": [],
   "execution_count": null,
   "source": "",
   "id": "d61c07942a8cef23"
  }
 ],
 "metadata": {
  "kernelspec": {
   "display_name": "Python 3",
   "language": "python",
   "name": "python3"
  },
  "language_info": {
   "codemirror_mode": {
    "name": "ipython",
    "version": 2
   },
   "file_extension": ".py",
   "mimetype": "text/x-python",
   "name": "python",
   "nbconvert_exporter": "python",
   "pygments_lexer": "ipython2",
   "version": "2.7.6"
  }
 },
 "nbformat": 4,
 "nbformat_minor": 5
}
